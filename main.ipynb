{
 "cells": [
  {
   "cell_type": "markdown",
   "metadata": {},
   "source": [
    "## SCRATCH"
   ]
  },
  {
   "cell_type": "code",
   "execution_count": null,
   "metadata": {},
   "outputs": [],
   "source": [
    "import numpy as np\n",
    "from sklearn.datasets import load_iris\n",
    "from sklearn.model_selection import train_test_split\n",
    "\n",
    "# Load dataset\n",
    "iris = load_iris()\n",
    "X = iris.data  # 4 fitur\n",
    "y = iris.target  # Label numerik (0, 1, 2)\n",
    "\n",
    "# One-hot encoding label (karena kita ingin output dengan softmax)\n",
    "def one_hot_encode(y, num_classes=3):\n",
    "    one_hot = np.zeros((y.size, num_classes))\n",
    "    one_hot[np.arange(y.size), y] = 1\n",
    "    return one_hot\n",
    "\n",
    "y = one_hot_encode(y)\n",
    "\n",
    "# Normalisasi data agar mean = 0, std = 1\n",
    "X = (X - np.mean(X, axis=0)) / np.std(X, axis=0)\n",
    "\n",
    "# Membagi dataset menjadi training dan testing\n",
    "X_train, X_test, y_train, y_test = train_test_split(X, y, test_size=0.2, random_state=42)\n"
   ]
  },
  {
   "cell_type": "code",
   "execution_count": null,
   "metadata": {},
   "outputs": [],
   "source": [
    "def initialize_weights(input_size, hidden_size, output_size):\n",
    "    np.random.seed(42)  # Supaya hasilnya tetap sama\n",
    "    W1 = np.random.randn(input_size, hidden_size) * 0.01  # Bobot layer 1\n",
    "    b1 = np.zeros((1, hidden_size))  # Bias layer 1\n",
    "    W2 = np.random.randn(hidden_size, output_size) * 0.01  # Bobot layer 2\n",
    "    b2 = np.zeros((1, output_size))  # Bias layer 2\n",
    "    return W1, b1, W2, b2\n",
    "\n",
    "# Ukuran layer\n",
    "input_size = 4      # Fitur dataset\n",
    "hidden_size = 5     # Jumlah neuron di hidden layer\n",
    "output_size = 3     # Jumlah kelas (Setosa, Versicolor, Virginica)\n",
    "\n",
    "# Inisialisasi bobot dan bias\n",
    "W1, b1, W2, b2 = initialize_weights(input_size, hidden_size, output_size)\n"
   ]
  },
  {
   "cell_type": "code",
   "execution_count": null,
   "metadata": {},
   "outputs": [],
   "source": [
    "# Fungsi aktivasi ReLU\n",
    "def relu(Z):\n",
    "    return np.maximum(0, Z)\n",
    "\n",
    "# Fungsi aktivasi Softmax untuk output layer\n",
    "def softmax(Z):\n",
    "    expZ = np.exp(Z - np.max(Z, axis=1, keepdims=True))  # Stabilitas numerik\n",
    "    return expZ / np.sum(expZ, axis=1, keepdims=True)\n",
    "\n",
    "# Forward propagation\n",
    "def forward_propagation(X, W1, b1, W2, b2):\n",
    "    Z1 = np.dot(X, W1) + b1  # Linear transform ke hidden layer\n",
    "    A1 = relu(Z1)  # Aktivasi ReLU\n",
    "    Z2 = np.dot(A1, W2) + b2  # Linear transform ke output layer\n",
    "    A2 = softmax(Z2)  # Aktivasi Softmax\n",
    "    \n",
    "    # Menyimpan hasil untuk backward propagation\n",
    "    cache = {\"Z1\": Z1, \"A1\": A1, \"Z2\": Z2, \"A2\": A2}\n",
    "    return A2, cache\n"
   ]
  },
  {
   "cell_type": "code",
   "execution_count": null,
   "metadata": {},
   "outputs": [],
   "source": [
    "def compute_loss(y_true, y_pred):\n",
    "    m = y_true.shape[0]  # Jumlah sampel\n",
    "    loss = -np.sum(y_true * np.log(y_pred + 1e-8)) / m  # Tambah epsilon agar tidak log(0)\n",
    "    return loss\n"
   ]
  },
  {
   "cell_type": "code",
   "execution_count": null,
   "metadata": {},
   "outputs": [],
   "source": [
    "# Fungsi turunan ReLU\n",
    "def relu_derivative(Z):\n",
    "    return Z > 0  # 1 jika Z > 0, 0 jika tidak\n",
    "\n",
    "# Backpropagation\n",
    "def backward_propagation(X, y_true, cache, W1, W2, learning_rate=0.01):\n",
    "    m = X.shape[0]  # Jumlah sampel\n",
    "\n",
    "    # Ambil hasil dari forward pass\n",
    "    A1, A2 = cache[\"A1\"], cache[\"A2\"]\n",
    "\n",
    "    # Hitung error di output layer\n",
    "    dZ2 = A2 - y_true\n",
    "    dW2 = (1 / m) * np.dot(A1.T, dZ2)\n",
    "    db2 = (1 / m) * np.sum(dZ2, axis=0, keepdims=True)\n",
    "\n",
    "    # Hitung error di hidden layer\n",
    "    dA1 = np.dot(dZ2, W2.T)\n",
    "    dZ1 = dA1 * relu_derivative(cache[\"Z1\"])\n",
    "    dW1 = (1 / m) * np.dot(X.T, dZ1)\n",
    "    db1 = (1 / m) * np.sum(dZ1, axis=0, keepdims=True)\n",
    "\n",
    "    # Update bobot dan bias\n",
    "    W1 -= learning_rate * dW1\n",
    "    b1 -= learning_rate * db1\n",
    "    W2 -= learning_rate * dW2\n",
    "    b2 -= learning_rate * db2\n",
    "\n",
    "    return W1, b1, W2, b2\n"
   ]
  },
  {
   "cell_type": "code",
   "execution_count": null,
   "metadata": {},
   "outputs": [],
   "source": [
    "# Hyperparameter\n",
    "epochs = 500\n",
    "learning_rate = 0.01\n",
    "\n",
    "# Training loop\n",
    "for epoch in range(epochs):\n",
    "    # Forward pass\n",
    "    y_pred, cache = forward_propagation(X_train, W1, b1, W2, b2)\n",
    "    \n",
    "    # Compute loss\n",
    "    loss = compute_loss(y_train, y_pred)\n",
    "\n",
    "    # Backpropagation\n",
    "    W1, b1, W2, b2 = backward_propagation(X_train, y_train, cache, W1, W2, learning_rate)\n",
    "\n",
    "    # Print loss setiap 50 epoch\n",
    "    if epoch % 50 == 0:\n",
    "        print(f\"Epoch {epoch}, Loss: {loss:.4f}\")\n"
   ]
  },
  {
   "cell_type": "markdown",
   "metadata": {},
   "source": [
    "## TF"
   ]
  },
  {
   "cell_type": "code",
   "execution_count": null,
   "metadata": {},
   "outputs": [],
   "source": [
    "import tensorflow as tf\n",
    "from tensorflow import keras\n",
    "from sklearn.datasets import load_iris\n",
    "from sklearn.model_selection import train_test_split\n",
    "from sklearn.preprocessing import StandardScaler, OneHotEncoder\n",
    "import numpy as np\n",
    "\n",
    "# Load dataset\n",
    "iris = load_iris()\n",
    "X = iris.data\n",
    "y = iris.target.reshape(-1, 1)  # Reshape for OneHotEncoder\n",
    "\n",
    "# Preprocessing\n",
    "scaler = StandardScaler()\n",
    "X = scaler.fit_transform(X)  # Normalize input features\n",
    "\n",
    "encoder = OneHotEncoder(sparse_output=False)\n",
    "y = encoder.fit_transform(y)  # Convert labels to one-hot encoding\n",
    "\n",
    "# Split dataset\n",
    "X_train, X_test, y_train, y_test = train_test_split(X, y, test_size=0.2, random_state=42)\n",
    "\n",
    "# Build simple model\n",
    "model = keras.Sequential([\n",
    "    keras.layers.Dense(4, activation='relu', input_shape=(4,)),  # 1 hidden layer with 4 neurons\n",
    "    keras.layers.Dense(3, activation='softmax')  # Output layer for 3 classes\n",
    "])\n",
    "\n",
    "# Compile model\n",
    "model.compile(optimizer='adam', loss='categorical_crossentropy', metrics=['accuracy'])\n",
    "\n",
    "# Train model\n",
    "model.fit(X_train, y_train, epochs=50, batch_size=8, verbose=1)\n",
    "\n",
    "# Evaluate model\n",
    "loss, accuracy = model.evaluate(X_test, y_test)\n",
    "print(f\"Test Accuracy: {accuracy:.4f}\")\n"
   ]
  }
 ],
 "metadata": {
  "kernelspec": {
   "display_name": "Python 3",
   "language": "python",
   "name": "python3"
  },
  "language_info": {
   "codemirror_mode": {
    "name": "ipython",
    "version": 3
   },
   "file_extension": ".py",
   "mimetype": "text/x-python",
   "name": "python",
   "nbconvert_exporter": "python",
   "pygments_lexer": "ipython3",
   "version": "3.12.4"
  }
 },
 "nbformat": 4,
 "nbformat_minor": 2
}
